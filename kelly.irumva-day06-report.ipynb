{
 "cells": [
  {
   "cell_type": "markdown",
   "id": "endless-simulation",
   "metadata": {},
   "source": [
    "# Question 1"
   ]
  },
  {
   "cell_type": "code",
   "execution_count": 86,
   "id": "challenging-abraham",
   "metadata": {},
   "outputs": [
    {
     "name": "stdout",
     "output_type": "stream",
     "text": [
      "Enter the value for nX (a natural number): 3\n",
      "Enter the value for nY (a natural number): 5\n",
      "Sum for odd i in (i + 3) from 0 to nX-1: 4\n",
      "Sum for even i in (i + 3) from 0 to nY-1: 15\n"
     ]
    }
   ],
   "source": [
    "nX = int(input(\"Enter the value for nX (a natural number): \"))\n",
    "nY = int(input(\"Enter the value for nY (a natural number): \"))\n",
    "sum_odd = 0\n",
    "for i in range(nX):\n",
    "    if i % 2 != 0:\n",
    "        sum_odd += (i + 3)\n",
    "sum_even = 0\n",
    "for i in range(nY):\n",
    "    if i % 2 == 0:\n",
    "        sum_even += (i + 3)\n",
    "\n",
    "print(\"Sum for odd i in (i + 3) from 0 to nX-1:\", sum_odd)\n",
    "print(\"Sum for even i in (i + 3) from 0 to nY-1:\", sum_even)\n"
   ]
  },
  {
   "cell_type": "markdown",
   "id": "packed-management",
   "metadata": {},
   "source": [
    "# Question 2\n"
   ]
  },
  {
   "cell_type": "code",
   "execution_count": 37,
   "id": "electoral-shield",
   "metadata": {},
   "outputs": [
    {
     "name": "stdout",
     "output_type": "stream",
     "text": [
      "3\n",
      "thursday\n"
     ]
    }
   ],
   "source": [
    "d = int(input())\n",
    "if d==0:\n",
    "    print (\"it's monday\")\n",
    "elif d==1:\n",
    "    print (\"tuesday\")\n",
    "elif d==2:\n",
    "    print (\"wednsday\")\n",
    "elif d==3:\n",
    "    print (\"thursday\")\n",
    "elif d==4:\n",
    "    print (\"friday\")\n",
    "else:\n",
    "    print(\"it's a weekwnd\")"
   ]
  },
  {
   "cell_type": "markdown",
   "id": "genuine-density",
   "metadata": {},
   "source": [
    "# Question 3"
   ]
  },
  {
   "cell_type": "code",
   "execution_count": 43,
   "id": "color-laundry",
   "metadata": {
    "scrolled": true
   },
   "outputs": [
    {
     "name": "stdout",
     "output_type": "stream",
     "text": [
      "5\n",
      " the month ha s 30 days\n"
     ]
    }
   ],
   "source": [
    "m=int(input())\n",
    "if m==0 or m==2 or m==4 or m==6|m==7 or m==9 or m==11:\n",
    "    print(\"the month has 31 days\")\n",
    "elif m==3 or m==5 or m==8 or m==10:\n",
    "    print(\" the month ha s 30 days\")\n",
    "else:\n",
    "    print(\" the month has 28 days\")"
   ]
  },
  {
   "cell_type": "markdown",
   "id": "naughty-weight",
   "metadata": {},
   "source": [
    "# Question 4"
   ]
  },
  {
   "cell_type": "code",
   "execution_count": null,
   "id": "cardiovascular-bride",
   "metadata": {},
   "outputs": [],
   "source": [
    "name = \"chandelle\"\n",
    "for i in range(3):\n",
    "    print(name)"
   ]
  },
  {
   "cell_type": "markdown",
   "id": "overall-collar",
   "metadata": {},
   "source": [
    "Here ,it's about a while loop\n"
   ]
  },
  {
   "cell_type": "code",
   "execution_count": 64,
   "id": "advanced-immunology",
   "metadata": {
    "scrolled": true
   },
   "outputs": [
    {
     "name": "stdout",
     "output_type": "stream",
     "text": [
      "Give me your name : chandelle\n",
      "my name is chandelle!\n",
      "my name is chandelle!\n",
      "my name is chandelle!\n"
     ]
    }
   ],
   "source": [
    "name = input(\"Give me your name : \")\n",
    "count = 0\n",
    "\n",
    "while count < 3:\n",
    "    \n",
    "    print(f\"my name is {name}!\")\n",
    "    count = count + 1"
   ]
  },
  {
   "cell_type": "markdown",
   "id": "cosmetic-humanitarian",
   "metadata": {},
   "source": [
    "# Question 5\n"
   ]
  },
  {
   "cell_type": "code",
   "execution_count": 85,
   "id": "alike-belize",
   "metadata": {},
   "outputs": [
    {
     "name": "stdout",
     "output_type": "stream",
     "text": [
      "Enter a first value (a0) : 2\n",
      "Enter a second value (a1) : 3\n",
      "Les 15 premiers termes de la séquence de Fibonacci sont :\n",
      "[2, 3, 5, 8, 13, 21, 34, 55, 89, 144, 233, 377, 610, 987, 1597]\n"
     ]
    }
   ],
   "source": [
    "a0 = int(input(\"Enter a first value (a0) : \"))\n",
    "a1 = int(input(\"Enter a second value (a1) : \"))\n",
    "fibonacci_seq = [a0, a1]\n",
    "for i in range(2, 15):\n",
    "    next_term = fibonacci_seq[i - 1] + fibonacci_seq[i - 2]\n",
    "    fibonacci_seq.append(next_term)\n",
    "print(\"Les 15 premiers termes de la séquence de Fibonacci sont :\")\n",
    "print(fibonacci_seq)\n"
   ]
  },
  {
   "cell_type": "markdown",
   "id": "canadian-caribbean",
   "metadata": {},
   "source": [
    "# Question 6"
   ]
  },
  {
   "cell_type": "code",
   "execution_count": 84,
   "id": "covered-certification",
   "metadata": {},
   "outputs": [
    {
     "name": "stdout",
     "output_type": "stream",
     "text": [
      "Entrez la première valeur (x0) : 4\n",
      "Entrez la deuxième valeur (x1) : 5\n",
      "The first 30 terms of a sequence are :\n",
      "[4.0, 5.0, 14.5, 22.25, 54.625, 94.0625, 210.90625, 387.640625, 826.5390625, 1576.19140625, 3267.712890625, 6362.4306640625, 12984.35400390625, 25579.468994140625, 51742.79650878906, 102609.8052368164, 206533.2921447754, 411096.0617828369, 825147.9073257446, 1645862.139011383, 3298374.7914829254, 6586773.812775612, 13188511.280836582, 26354577.078745127, 52742822.38188231, 105435142.42717654, 210946038.3592352, 421778446.4611472, 843727338.3082793, 1687199008.537581]\n"
     ]
    }
   ],
   "source": [
    "x0 = float(input(\"Entrez la première valeur (x0) : \"))\n",
    "x1 = float(input(\"Entrez la deuxième valeur (x1) : \"))\n",
    "sequence = [x0, x1]\n",
    "for i in range(2, 30):\n",
    "    n_terms= (sequence[-1] + 6 * sequence[-2]) / 2\n",
    "    sequence.append(n_terms)\n",
    "print(\"The first 30 terms of a sequence are :\")\n",
    "print(sequence)\n"
   ]
  },
  {
   "cell_type": "markdown",
   "id": "likely-worker",
   "metadata": {},
   "source": [
    "# Question 9\n",
    "THe divisors"
   ]
  },
  {
   "cell_type": "code",
   "execution_count": 70,
   "id": "settled-crystal",
   "metadata": {},
   "outputs": [
    {
     "name": "stdout",
     "output_type": "stream",
     "text": [
      "Entrez un nombre naturel : 15\n",
      "Les diviseurs de 15 sont :\n",
      "1\n",
      "3\n",
      "5\n",
      "15\n"
     ]
    }
   ],
   "source": [
    "\n",
    "number = int(input(\"Entrez un nombre naturel : \"))\n",
    "\n",
    "if number > 0:\n",
    "    print(f\"Les diviseurs de {number} sont :\")\n",
    "    for i in range(1, number + 1):\n",
    "        if number % i == 0:\n",
    "            print(i)\n",
    "else:\n",
    "    print(\"enter a natural number.\")\n"
   ]
  },
  {
   "cell_type": "markdown",
   "id": "satisfied-booking",
   "metadata": {},
   "source": [
    "About the prime factors"
   ]
  },
  {
   "cell_type": "code",
   "execution_count": 80,
   "id": "surprising-bedroom",
   "metadata": {},
   "outputs": [
    {
     "name": "stdout",
     "output_type": "stream",
     "text": [
      "Enter a number : 23\n",
      "the factor prime Les facteurs premiers de 23 sont :\n",
      "23\n"
     ]
    }
   ],
   "source": [
    "n = int(input(\"Enter a number : \"))\n",
    "nmbr= n\n",
    "print(f\"the factor prime of {n} are :\")\n",
    "for i in range(2, n + 1):\n",
    "    while n % i == 0:\n",
    "        print(i)\n",
    "        n //= i \n",
    "if n > 1:\n",
    "    print(n)  "
   ]
  },
  {
   "cell_type": "markdown",
   "id": "simplified-conversion",
   "metadata": {},
   "source": [
    "# Question 5"
   ]
  },
  {
   "cell_type": "code",
   "execution_count": 75,
   "id": "continued-college",
   "metadata": {},
   "outputs": [
    {
     "name": "stdout",
     "output_type": "stream",
     "text": [
      "Entrez la première valeur (a0) : 1\n",
      "Entrez la deuxième valeur (a1) : 2\n",
      "Les 15 premiers termes de la séquence de Fibonacci sont :\n",
      "[1, 2, 3, 5, 8, 13, 21, 34, 55, 89, 144, 233, 377, 610, 987]\n"
     ]
    }
   ],
   "source": []
  },
  {
   "cell_type": "markdown",
   "id": "defined-scanning",
   "metadata": {},
   "source": [
    "# Question 11"
   ]
  },
  {
   "cell_type": "code",
   "execution_count": 74,
   "id": "posted-carroll",
   "metadata": {},
   "outputs": [
    {
     "name": "stdout",
     "output_type": "stream",
     "text": [
      "0\n",
      "3\n",
      "6\n",
      "7\n",
      "9\n",
      "11\n",
      "12\n",
      "14\n",
      "15\n",
      "18\n",
      "21\n",
      "22\n",
      "24\n",
      "27\n",
      "28\n",
      "30\n",
      "33\n",
      "35\n",
      "36\n",
      "39\n"
     ]
    }
   ],
   "source": [
    "for number in range(41):  # print the numbers between 0 and 40\n",
    "    if number % 3 == 0 or number % 7 == 0 or number % 11 == 0:\n",
    "        print(number) "
   ]
  },
  {
   "cell_type": "code",
   "execution_count": null,
   "id": "chinese-orchestra",
   "metadata": {},
   "outputs": [],
   "source": []
  }
 ],
 "metadata": {
  "kernelspec": {
   "display_name": "Python 3",
   "language": "python",
   "name": "python3"
  },
  "language_info": {
   "codemirror_mode": {
    "name": "ipython",
    "version": 3
   },
   "file_extension": ".py",
   "mimetype": "text/x-python",
   "name": "python",
   "nbconvert_exporter": "python",
   "pygments_lexer": "ipython3",
   "version": "3.9.2"
  }
 },
 "nbformat": 4,
 "nbformat_minor": 5
}
