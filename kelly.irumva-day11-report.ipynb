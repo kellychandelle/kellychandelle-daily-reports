{
 "cells": [
  {
   "cell_type": "markdown",
   "id": "946dcae8",
   "metadata": {},
   "source": [
    "# Practical_6: Numpy"
   ]
  },
  {
   "cell_type": "markdown",
   "id": "0f6a81c4",
   "metadata": {},
   "source": [
    "---\n",
    "\n",
    "### Exercise 1:\n",
    "Create a NumPy array of integers from 1 to 10.\n",
    "\n",
    "```python\n",
    "# Exercise 1"
   ]
  },
  {
   "cell_type": "code",
   "execution_count": 7,
   "id": "161436e8",
   "metadata": {},
   "outputs": [
    {
     "name": "stdout",
     "output_type": "stream",
     "text": [
      "[ 1  2  3  4  5  6  7  8  9 10]\n"
     ]
    }
   ],
   "source": [
    "import numpy as np\n",
    "x= np.arange(1,11,1)\n",
    "print(x)"
   ]
  },
  {
   "cell_type": "markdown",
   "id": "f1ceea63",
   "metadata": {},
   "source": [
    "```\n",
    "\n",
    "---\n",
    "\n",
    "### Exercise 2:\n",
    "Create a 3x3 NumPy array filled with zeros.\n",
    "\n",
    "```python\n",
    "# Exercise 2\n",
    "```"
   ]
  },
  {
   "cell_type": "code",
   "execution_count": 6,
   "id": "b32f2327",
   "metadata": {
    "scrolled": true
   },
   "outputs": [
    {
     "name": "stdout",
     "output_type": "stream",
     "text": [
      "[[0 0 0]\n",
      " [0 0 0]\n",
      " [0 0 0]]\n"
     ]
    }
   ],
   "source": [
    "v= np.array([[0,0,0],[0,0,0],[0,0,0]])\n",
    "print (v)"
   ]
  },
  {
   "cell_type": "code",
   "execution_count": null,
   "id": "4ebee05d",
   "metadata": {},
   "outputs": [],
   "source": [
    "v=np.zeros"
   ]
  },
  {
   "cell_type": "markdown",
   "id": "9a549fab",
   "metadata": {},
   "source": [
    "---\n",
    "\n",
    "### Exercise 3:\n",
    "Create a NumPy array of 10 evenly spaced numbers between 0 and 5.\n",
    "\n",
    "```python\n",
    "# Exercise 3"
   ]
  },
  {
   "cell_type": "code",
   "execution_count": 10,
   "id": "7ea14dcb",
   "metadata": {},
   "outputs": [
    {
     "name": "stdout",
     "output_type": "stream",
     "text": [
      "Help on built-in function randint:\n",
      "\n",
      "randint(...) method of numpy.random.mtrand.RandomState instance\n",
      "    randint(low, high=None, size=None, dtype=int)\n",
      "\n",
      "    Return random integers from `low` (inclusive) to `high` (exclusive).\n",
      "\n",
      "    Return random integers from the \"discrete uniform\" distribution of\n",
      "    the specified dtype in the \"half-open\" interval [`low`, `high`). If\n",
      "    `high` is None (the default), then results are from [0, `low`).\n",
      "\n",
      "    .. note::\n",
      "        New code should use the `~numpy.random.Generator.integers`\n",
      "        method of a `~numpy.random.Generator` instance instead;\n",
      "        please see the :ref:`random-quick-start`.\n",
      "\n",
      "    Parameters\n",
      "    ----------\n",
      "    low : int or array-like of ints\n",
      "        Lowest (signed) integers to be drawn from the distribution (unless\n",
      "        ``high=None``, in which case this parameter is one above the\n",
      "        *highest* such integer).\n",
      "    high : int or array-like of ints, optional\n",
      "        If provided, one above the largest (signed) integer to be drawn\n",
      "        from the distribution (see above for behavior if ``high=None``).\n",
      "        If array-like, must contain integer values\n",
      "    size : int or tuple of ints, optional\n",
      "        Output shape.  If the given shape is, e.g., ``(m, n, k)``, then\n",
      "        ``m * n * k`` samples are drawn.  Default is None, in which case a\n",
      "        single value is returned.\n",
      "    dtype : dtype, optional\n",
      "        Desired dtype of the result. Byteorder must be native.\n",
      "        The default value is int.\n",
      "\n",
      "        .. versionadded:: 1.11.0\n",
      "\n",
      "    Returns\n",
      "    -------\n",
      "    out : int or ndarray of ints\n",
      "        `size`-shaped array of random integers from the appropriate\n",
      "        distribution, or a single such random int if `size` not provided.\n",
      "\n",
      "    See Also\n",
      "    --------\n",
      "    random_integers : similar to `randint`, only for the closed\n",
      "        interval [`low`, `high`], and 1 is the lowest value if `high` is\n",
      "        omitted.\n",
      "    random.Generator.integers: which should be used for new code.\n",
      "\n",
      "    Examples\n",
      "    --------\n",
      "    >>> np.random.randint(2, size=10)\n",
      "    array([1, 0, 0, 0, 1, 1, 0, 0, 1, 0]) # random\n",
      "    >>> np.random.randint(1, size=10)\n",
      "    array([0, 0, 0, 0, 0, 0, 0, 0, 0, 0])\n",
      "\n",
      "    Generate a 2 x 4 array of ints between 0 and 4, inclusive:\n",
      "\n",
      "    >>> np.random.randint(5, size=(2, 4))\n",
      "    array([[4, 0, 2, 1], # random\n",
      "           [3, 2, 2, 0]])\n",
      "\n",
      "    Generate a 1 x 3 array with 3 different upper bounds\n",
      "\n",
      "    >>> np.random.randint(1, [3, 5, 10])\n",
      "    array([2, 2, 9]) # random\n",
      "\n",
      "    Generate a 1 by 3 array with 3 different lower bounds\n",
      "\n",
      "    >>> np.random.randint([1, 5, 7], 10)\n",
      "    array([9, 8, 7]) # random\n",
      "\n",
      "    Generate a 2 by 4 array using broadcasting with dtype of uint8\n",
      "\n",
      "    >>> np.random.randint([1, 3, 5, 7], [[10], [20]], dtype=np.uint8)\n",
      "    array([[ 8,  6,  9,  7], # random\n",
      "           [ 1, 16,  9, 12]], dtype=uint8)\n",
      "\n"
     ]
    }
   ],
   "source": [
    "help(np.random.randint)"
   ]
  },
  {
   "cell_type": "code",
   "execution_count": 16,
   "id": "6583ea47",
   "metadata": {},
   "outputs": [
    {
     "name": "stdout",
     "output_type": "stream",
     "text": [
      "[0.         0.55555556 1.11111111 1.66666667 2.22222222 2.77777778\n",
      " 3.33333333 3.88888889 4.44444444 5.        ]\n"
     ]
    }
   ],
   "source": [
    "z=np.linspace(0,5,10)\n",
    "print(z)"
   ]
  },
  {
   "cell_type": "markdown",
   "id": "9a5378ce",
   "metadata": {},
   "source": [
    "---\n",
    "\n",
    "### Exercise 4:\n",
    "Create a 5x5 identity matrix using NumPy.\n",
    "\n",
    "```python\n",
    "# Exercise 4"
   ]
  },
  {
   "cell_type": "code",
   "execution_count": 17,
   "id": "7c249229",
   "metadata": {},
   "outputs": [
    {
     "name": "stdout",
     "output_type": "stream",
     "text": [
      "[[1. 0. 0. 0. 0.]\n",
      " [0. 1. 0. 0. 0.]\n",
      " [0. 0. 1. 0. 0.]\n",
      " [0. 0. 0. 1. 0.]\n",
      " [0. 0. 0. 0. 1.]]\n"
     ]
    }
   ],
   "source": [
    "d=np.eye(5)\n",
    "print(d)"
   ]
  },
  {
   "cell_type": "markdown",
   "id": "5255970b",
   "metadata": {},
   "source": [
    "---\n",
    "\n",
    "### Exercise 5:\n",
    "Create a 4x4 matrix with random values between 0 and 1.\n",
    "\n",
    "```python\n",
    "# Exercise 5"
   ]
  },
  {
   "cell_type": "code",
   "execution_count": 31,
   "id": "39d037a3",
   "metadata": {},
   "outputs": [
    {
     "data": {
      "text/plain": [
       "array([[0.32764023, 0.72636008, 0.31035279, 0.02082162],\n",
       "       [0.9747926 , 0.88937193, 0.36601086, 0.87864157],\n",
       "       [0.17363126, 0.94171936, 0.72923976, 0.22865743],\n",
       "       [0.19813074, 0.91668969, 0.71788666, 0.71788163]])"
      ]
     },
     "execution_count": 31,
     "metadata": {},
     "output_type": "execute_result"
    }
   ],
   "source": [
    "\n",
    "m= np.random.random([4,4])\n",
    "m"
   ]
  },
  {
   "cell_type": "markdown",
   "id": "4d1396c9",
   "metadata": {},
   "source": [
    "### Exercise 6:\n",
    "Find the shape of a NumPy array.\n",
    "\n",
    "```python\n",
    "# Exercise 6"
   ]
  },
  {
   "cell_type": "code",
   "execution_count": 33,
   "id": "768ea234",
   "metadata": {},
   "outputs": [
    {
     "data": {
      "text/plain": [
       "(4, 4)"
      ]
     },
     "execution_count": 33,
     "metadata": {},
     "output_type": "execute_result"
    }
   ],
   "source": [
    "m.shape"
   ]
  },
  {
   "cell_type": "markdown",
   "id": "7f859309",
   "metadata": {},
   "source": [
    "### Exercise 7:\n",
    "Reshape a 1D NumPy array of 16 elements into a 4x4 matrix.\n",
    "\n",
    "```python\n",
    "# Exercise 7"
   ]
  },
  {
   "cell_type": "code",
   "execution_count": 43,
   "id": "74654cf0",
   "metadata": {},
   "outputs": [
    {
     "name": "stdout",
     "output_type": "stream",
     "text": [
      "[ 8  3  1 14 14 12 11  4  6 10  0  7  0  5  8  9]\n",
      "(16,)\n",
      "[[ 8  3  1 14]\n",
      " [14 12 11  4]\n",
      " [ 6 10  0  7]\n",
      " [ 0  5  8  9]]\n"
     ]
    }
   ],
   "source": [
    "b=np.random.randint(15,size=16)\n",
    "print(b)\n",
    "print(b.shape)\n",
    "b.shape=(4,4)\n",
    "print(b)"
   ]
  },
  {
   "cell_type": "markdown",
   "id": "c1b87e6c",
   "metadata": {},
   "source": [
    "---\n",
    "\n",
    "### Exercise 8:\n",
    "Find the data type of the elements in a NumPy array.\n",
    "\n",
    "```python\n",
    "# Exercise 8"
   ]
  },
  {
   "cell_type": "code",
   "execution_count": 44,
   "id": "95de03a9",
   "metadata": {},
   "outputs": [
    {
     "name": "stdout",
     "output_type": "stream",
     "text": [
      "int64\n"
     ]
    }
   ],
   "source": [
    "print(b.dtype)\n",
    "\n"
   ]
  },
  {
   "cell_type": "markdown",
   "id": "0fc83eb3",
   "metadata": {},
   "source": [
    "### Exercise 9:\n",
    "Create a NumPy array of integers from 1 to 100 and find all even numbers in the array.\n",
    "\n",
    "```python\n",
    "# Exercise 9"
   ]
  },
  {
   "cell_type": "code",
   "execution_count": 52,
   "id": "e000258a",
   "metadata": {},
   "outputs": [
    {
     "data": {
      "text/plain": [
       "array([  2,   4,   6,   8,  10,  12,  14,  16,  18,  20,  22,  24,  26,\n",
       "        28,  30,  32,  34,  36,  38,  40,  42,  44,  46,  48,  50,  52,\n",
       "        54,  56,  58,  60,  62,  64,  66,  68,  70,  72,  74,  76,  78,\n",
       "        80,  82,  84,  86,  88,  90,  92,  94,  96,  98, 100])"
      ]
     },
     "execution_count": 52,
     "metadata": {},
     "output_type": "execute_result"
    }
   ],
   "source": [
    "f=np.arange(1,101)\n",
    "f[f%2==0]"
   ]
  },
  {
   "cell_type": "markdown",
   "id": "901a6a04",
   "metadata": {},
   "source": [
    "### Exercise 10:\n",
    "Generate a 6x6 matrix of random integers between 10 and 50.\n",
    "\n",
    "```python\n",
    "# Exercise 10\n",
    "```"
   ]
  },
  {
   "cell_type": "code",
   "execution_count": 56,
   "id": "4b1a9e50",
   "metadata": {},
   "outputs": [
    {
     "data": {
      "text/plain": [
       "array([[27, 12, 11, 39, 40, 26],\n",
       "       [49, 33, 26, 14, 20, 24],\n",
       "       [43, 25, 45, 16, 18, 16],\n",
       "       [44, 12, 16, 19, 45, 43],\n",
       "       [46, 47, 18, 16, 26, 10],\n",
       "       [33, 31, 48, 30, 14, 26]])"
      ]
     },
     "execution_count": 56,
     "metadata": {},
     "output_type": "execute_result"
    }
   ],
   "source": [
    "g=np.random.randint(10,50,[6,6])\n",
    "print(g)"
   ]
  },
  {
   "cell_type": "markdown",
   "id": "543244d2",
   "metadata": {},
   "source": [
    "---\n",
    "\n",
    "### Exercise 11:\n",
    "Slice a 2D NumPy array to extract a submatrix.\n",
    "\n",
    "```python\n",
    "# Exercise 11"
   ]
  },
  {
   "cell_type": "code",
   "execution_count": 59,
   "id": "fd81da1e",
   "metadata": {},
   "outputs": [
    {
     "name": "stdout",
     "output_type": "stream",
     "text": [
      "[[19 45]\n",
      " [16 26]]\n"
     ]
    }
   ],
   "source": [
    "\n",
    "b=g[3:5 , 3:5]\n",
    "print(b)\n"
   ]
  },
  {
   "cell_type": "markdown",
   "id": "b899a093",
   "metadata": {},
   "source": [
    "### Exercise 12:\n",
    "Calculate the sum of all elements in a NumPy array.\n",
    "\n",
    "```python\n",
    "# Exercise 12\n",
    "```"
   ]
  },
  {
   "cell_type": "code",
   "execution_count": 61,
   "id": "17e1a8ad",
   "metadata": {},
   "outputs": [
    {
     "data": {
      "text/plain": [
       "1008"
      ]
     },
     "execution_count": 61,
     "metadata": {},
     "output_type": "execute_result"
    }
   ],
   "source": [
    "somme=np.sum(g)\n",
    "somme"
   ]
  },
  {
   "cell_type": "markdown",
   "id": "0726b946",
   "metadata": {},
   "source": [
    "### Exercise 13:\n",
    "Calculate the mean, median, and standard deviation of a NumPy array.\n",
    "\n",
    "```python\n",
    "# Exercise 13\n",
    "```"
   ]
  },
  {
   "cell_type": "code",
   "execution_count": 62,
   "id": "b50a50f8",
   "metadata": {},
   "outputs": [
    {
     "name": "stdout",
     "output_type": "stream",
     "text": [
      "28.0\n"
     ]
    }
   ],
   "source": [
    "moy=np.mean(g)\n",
    "print(moy)"
   ]
  },
  {
   "cell_type": "code",
   "execution_count": 64,
   "id": "7f6075c2",
   "metadata": {},
   "outputs": [
    {
     "data": {
      "text/plain": [
       "26.0"
      ]
     },
     "execution_count": 64,
     "metadata": {},
     "output_type": "execute_result"
    }
   ],
   "source": [
    "med=np.median(g)\n",
    "med"
   ]
  },
  {
   "cell_type": "code",
   "execution_count": 65,
   "id": "9306db26",
   "metadata": {},
   "outputs": [
    {
     "data": {
      "text/plain": [
       "12.492219800962339"
      ]
     },
     "execution_count": 65,
     "metadata": {},
     "output_type": "execute_result"
    }
   ],
   "source": [
    "stndr=np.std(g)\n",
    "stndr"
   ]
  },
  {
   "cell_type": "markdown",
   "id": "1c17e730",
   "metadata": {},
   "source": [
    "### Exercise 14:\n",
    "Find the maximum and minimum values in a NumPy array.\n",
    "\n",
    "```python\n",
    "# Exercise 14"
   ]
  },
  {
   "cell_type": "code",
   "execution_count": 69,
   "id": "8c9cc388",
   "metadata": {},
   "outputs": [
    {
     "data": {
      "text/plain": [
       "49"
      ]
     },
     "execution_count": 69,
     "metadata": {},
     "output_type": "execute_result"
    }
   ],
   "source": [
    "mx=np.max(g)\n",
    "mx"
   ]
  },
  {
   "cell_type": "code",
   "execution_count": 70,
   "id": "329b8cfe",
   "metadata": {},
   "outputs": [
    {
     "data": {
      "text/plain": [
       "10"
      ]
     },
     "execution_count": 70,
     "metadata": {},
     "output_type": "execute_result"
    }
   ],
   "source": [
    "mn=np.min(g)\n",
    "mn"
   ]
  },
  {
   "cell_type": "code",
   "execution_count": 68,
   "id": "ae270d32",
   "metadata": {},
   "outputs": [
    {
     "name": "stdout",
     "output_type": "stream",
     "text": [
      "Help on ufunc:\n",
      "\n",
      "maximum = <ufunc 'maximum'>\n",
      "    maximum(x1, x2, /, out=None, *, where=True, casting='same_kind', order='K', dtype=None, subok=True[, signature, extobj])\n",
      "\n",
      "    Element-wise maximum of array elements.\n",
      "\n",
      "    Compare two arrays and return a new array containing the element-wise\n",
      "    maxima. If one of the elements being compared is a NaN, then that\n",
      "    element is returned. If both elements are NaNs then the first is\n",
      "    returned. The latter distinction is important for complex NaNs, which\n",
      "    are defined as at least one of the real or imaginary parts being a NaN.\n",
      "    The net effect is that NaNs are propagated.\n",
      "\n",
      "    Parameters\n",
      "    ----------\n",
      "    x1, x2 : array_like\n",
      "        The arrays holding the elements to be compared.\n",
      "        If ``x1.shape != x2.shape``, they must be broadcastable to a common\n",
      "        shape (which becomes the shape of the output).\n",
      "    out : ndarray, None, or tuple of ndarray and None, optional\n",
      "        A location into which the result is stored. If provided, it must have\n",
      "        a shape that the inputs broadcast to. If not provided or None,\n",
      "        a freshly-allocated array is returned. A tuple (possible only as a\n",
      "        keyword argument) must have length equal to the number of outputs.\n",
      "    where : array_like, optional\n",
      "        This condition is broadcast over the input. At locations where the\n",
      "        condition is True, the `out` array will be set to the ufunc result.\n",
      "        Elsewhere, the `out` array will retain its original value.\n",
      "        Note that if an uninitialized `out` array is created via the default\n",
      "        ``out=None``, locations within it where the condition is False will\n",
      "        remain uninitialized.\n",
      "    **kwargs\n",
      "        For other keyword-only arguments, see the\n",
      "        :ref:`ufunc docs <ufuncs.kwargs>`.\n",
      "\n",
      "    Returns\n",
      "    -------\n",
      "    y : ndarray or scalar\n",
      "        The maximum of `x1` and `x2`, element-wise.\n",
      "        This is a scalar if both `x1` and `x2` are scalars.\n",
      "\n",
      "    See Also\n",
      "    --------\n",
      "    minimum :\n",
      "        Element-wise minimum of two arrays, propagates NaNs.\n",
      "    fmax :\n",
      "        Element-wise maximum of two arrays, ignores NaNs.\n",
      "    amax :\n",
      "        The maximum value of an array along a given axis, propagates NaNs.\n",
      "    nanmax :\n",
      "        The maximum value of an array along a given axis, ignores NaNs.\n",
      "\n",
      "    fmin, amin, nanmin\n",
      "\n",
      "    Notes\n",
      "    -----\n",
      "    The maximum is equivalent to ``np.where(x1 >= x2, x1, x2)`` when\n",
      "    neither x1 nor x2 are nans, but it is faster and does proper\n",
      "    broadcasting.\n",
      "\n",
      "    Examples\n",
      "    --------\n",
      "    >>> np.maximum([2, 3, 4], [1, 5, 2])\n",
      "    array([2, 5, 4])\n",
      "\n",
      "    >>> np.maximum(np.eye(2), [0.5, 2]) # broadcasting\n",
      "    array([[ 1. ,  2. ],\n",
      "           [ 0.5,  2. ]])\n",
      "\n",
      "    >>> np.maximum([np.nan, 0, np.nan], [0, np.nan, np.nan])\n",
      "    array([nan, nan, nan])\n",
      "    >>> np.maximum(np.Inf, 1)\n",
      "    inf\n",
      "\n"
     ]
    }
   ],
   "source": [
    "help(np.maximum)"
   ]
  },
  {
   "cell_type": "markdown",
   "id": "01ff0f77",
   "metadata": {},
   "source": [
    "---\n",
    "\n",
    "### Exercise 15:\n",
    "Create a NumPy array of 20 random integers and find the index of the maximum value.\n",
    "\n",
    "```python\n",
    "# Exercise 15"
   ]
  },
  {
   "cell_type": "code",
   "execution_count": 84,
   "id": "e0c25568",
   "metadata": {},
   "outputs": [
    {
     "name": "stdout",
     "output_type": "stream",
     "text": [
      "[12 20  9 23 22  4  7  3 24 17 11  5 21 14 11 15 23  5 10  8]\n"
     ]
    },
    {
     "data": {
      "text/plain": [
       "8"
      ]
     },
     "execution_count": 84,
     "metadata": {},
     "output_type": "execute_result"
    }
   ],
   "source": [
    "r=np.random.randint(25,size=20)\n",
    "print(r)\n",
    "np.argmax(r)"
   ]
  },
  {
   "cell_type": "markdown",
   "id": "79f8429d",
   "metadata": {},
   "source": [
    "---\n",
    "\n",
    "### Exercise 16:\n",
    "Create a NumPy array and reverse its elements.\n",
    "\n",
    "```python\n",
    "# Exercise 16\n",
    "```"
   ]
  },
  {
   "cell_type": "code",
   "execution_count": 91,
   "id": "1b84e424",
   "metadata": {},
   "outputs": [
    {
     "name": "stdout",
     "output_type": "stream",
     "text": [
      "[20  6 10 14 17 12]\n"
     ]
    },
    {
     "data": {
      "text/plain": [
       "array([12, 17, 14, 10,  6, 20])"
      ]
     },
     "execution_count": 91,
     "metadata": {},
     "output_type": "execute_result"
    }
   ],
   "source": [
    "e=np.random.randint(23,size=6)\n",
    "print(e)\n",
    "r=np.flip(e)\n",
    "r"
   ]
  },
  {
   "cell_type": "markdown",
   "id": "c432050b",
   "metadata": {},
   "source": [
    "---\n",
    "\n",
    "### Exercise 17:\n",
    "Create a 3x3 matrix and multiply it element-wise by another 3x3 matrix.\n",
    "\n",
    "```python\n",
    "# Exercise 17"
   ]
  },
  {
   "cell_type": "code",
   "execution_count": 99,
   "id": "fd14bcec",
   "metadata": {},
   "outputs": [
    {
     "ename": "SyntaxError",
     "evalue": "(unicode error) 'unicodeescape' codec can't decode bytes in position 3-4: malformed \\N character escape (1359878239.py, line 3)",
     "output_type": "error",
     "traceback": [
      "\u001b[0;36m  Cell \u001b[0;32mIn[99], line 3\u001b[0;36m\u001b[0m\n\u001b[0;31m    print('A :\\N', matr1)\u001b[0m\n\u001b[0m          ^\u001b[0m\n\u001b[0;31mSyntaxError\u001b[0m\u001b[0;31m:\u001b[0m (unicode error) 'unicodeescape' codec can't decode bytes in position 3-4: malformed \\N character escape\n"
     ]
    }
   ],
   "source": [
    "matr1=np.random.randint(12,size=(3,3))\n",
    "matr2=np.random.randint(12,size=(3,3))\n",
    "print('A :\\N', matr1)\n",
    "print(matr2)\n",
    "mult=matr1*matr2\n",
    "print (mult)"
   ]
  },
  {
   "cell_type": "markdown",
   "id": "33b0dd24",
   "metadata": {},
   "source": [
    "---\n",
    "\n",
    "### Exercise 18:\n",
    "Create a diagonal matrix from a given 1D array.\n",
    "\n",
    "```python\n",
    "# Exercise 18\n",
    "```"
   ]
  },
  {
   "cell_type": "code",
   "execution_count": 101,
   "id": "3ca81799",
   "metadata": {},
   "outputs": [
    {
     "name": "stdout",
     "output_type": "stream",
     "text": [
      "[ 7  1  3  5 10]\n",
      "[[ 7  0  0  0  0]\n",
      " [ 0  1  0  0  0]\n",
      " [ 0  0  3  0  0]\n",
      " [ 0  0  0  5  0]\n",
      " [ 0  0  0  0 10]]\n"
     ]
    }
   ],
   "source": [
    "giv=np.random.randint(12,size=5)\n",
    "print(giv)\n",
    "diag=np.diag(giv)\n",
    "print(diag)"
   ]
  },
  {
   "cell_type": "markdown",
   "id": "bd4bf7c1",
   "metadata": {},
   "source": [
    "### Exercise 19:\n",
    "Perform matrix multiplication on two 2D NumPy arrays.\n",
    "\n",
    "```python\n",
    "# Exercise 19\n",
    "`"
   ]
  },
  {
   "cell_type": "code",
   "execution_count": 104,
   "id": "4933deb9",
   "metadata": {},
   "outputs": [
    {
     "name": "stdout",
     "output_type": "stream",
     "text": [
      "[[ 8 11  9  6  3]\n",
      " [11  0  6  4  3]\n",
      " [ 1  7  4  1  5]\n",
      " [11  9  4 10 10]\n",
      " [ 8  4 11  3  9]]\n",
      "[[ 8  6  9  9  2]\n",
      " [ 9  1  2  1  1]\n",
      " [ 3  5  6  3  9]\n",
      " [10  9  6  0  5]\n",
      " [ 8  0  9  6  7]]\n",
      "[[ 64  66  81  54   6]\n",
      " [ 99   0  12   4   3]\n",
      " [  3  35  24   3  45]\n",
      " [110  81  24   0  50]\n",
      " [ 64   0  99  18  63]]\n"
     ]
    }
   ],
   "source": [
    "matr1=np.random.randint(12,size=(5,5))\n",
    "matr2=np.random.randint(12,size=(5,5))\n",
    "perf_mult=matr1*matr2\n",
    "print(matr1)\n",
    "print(matr2)\n",
    "print(perf_mult)"
   ]
  },
  {
   "cell_type": "markdown",
   "id": "0b0e982e",
   "metadata": {},
   "source": [
    "--\n",
    "\n",
    "### Exercise 20:\n",
    "Flatten a 2D NumPy array into a 1D array.\n",
    "\n",
    "```python\n",
    "# Exercise 20"
   ]
  },
  {
   "cell_type": "code",
   "execution_count": 105,
   "id": "9a737a13",
   "metadata": {},
   "outputs": [
    {
     "name": "stdout",
     "output_type": "stream",
     "text": [
      "F is : \n",
      " [ 5 10  0  2  0  5  9  1  4]\n"
     ]
    }
   ],
   "source": [
    "T=np.random.randint(12,size=(3,3))\n",
    "F=np.concatenate(T)\n",
    "print('F is : \\n' , F)"
   ]
  },
  {
   "cell_type": "markdown",
   "id": "57407727",
   "metadata": {},
   "source": [
    "---\n",
    "\n",
    "### Exercise 21:\n",
    "Stack two NumPy arrays vertically.\n",
    "\n",
    "```python\n",
    "# Exercise 21\n",
    "`"
   ]
  },
  {
   "cell_type": "code",
   "execution_count": 107,
   "id": "2991e8a7",
   "metadata": {},
   "outputs": [
    {
     "name": "stdout",
     "output_type": "stream",
     "text": [
      "P :\n",
      " [9 9 2 1 3 6 5 7 7 5 7 4 1 3 5]\n",
      "J :\n",
      " [8 7 9 9 8 2 9 8 5 1 6 5 6 4 9]\n",
      "The array stacked is :\n",
      " [[9 9 2 1 3 6 5 7 7 5 7 4 1 3 5]\n",
      " [8 7 9 9 8 2 9 8 5 1 6 5 6 4 9]]\n"
     ]
    }
   ],
   "source": [
    "P=np.random.randint(10, size=15)\n",
    "J=np.random.randint(10, size=15)\n",
    "stac_ver=np.vstack((P, J))\n",
    "print('P :\\n' , P)\n",
    "print('J :\\n' , J)\n",
    "print(\"The array stacked is :\\n\", stac_ver)"
   ]
  },
  {
   "cell_type": "markdown",
   "id": "547d48bb",
   "metadata": {},
   "source": [
    "---\n",
    "\n",
    "### Exercise 22:\n",
    "Stack two NumPy arrays horizontally.\n",
    "\n",
    "```python\n",
    "# Exercise 22\n",
    "`"
   ]
  },
  {
   "cell_type": "code",
   "execution_count": 108,
   "id": "997a4066",
   "metadata": {},
   "outputs": [
    {
     "name": "stdout",
     "output_type": "stream",
     "text": [
      "P :\n",
      " [6 0 2 2 6 3 7 6 3 7 9 2 5 5 0]\n",
      "J :\n",
      " [0 5 0 4 7 5 4 1 9 3 9 6 0 5 3]\n",
      "The array stacked is :\n",
      " [6 0 2 2 6 3 7 6 3 7 9 2 5 5 0 0 5 0 4 7 5 4 1 9 3 9 6 0 5 3]\n"
     ]
    }
   ],
   "source": [
    "\n",
    "P=np.random.randint(10, size=15)\n",
    "J=np.random.randint(10, size=15)\n",
    "stac_hor=np.hstack((P, J))\n",
    "print('P :\\n' , P)\n",
    "print('J :\\n' , J)\n",
    "print(\"The array stacked is :\\n\", stac_hor)"
   ]
  },
  {
   "cell_type": "markdown",
   "id": "8716b9d3",
   "metadata": {},
   "source": [
    "--\n",
    "\n",
    "### Exercise 23:\n",
    "Split a NumPy array into multiple sub-arrays.\n",
    "\n",
    "```python\n",
    "# Exercise 23"
   ]
  },
  {
   "cell_type": "code",
   "execution_count": 112,
   "id": "e5ef438b",
   "metadata": {},
   "outputs": [
    {
     "name": "stdout",
     "output_type": "stream",
     "text": [
      "The given matrix : \n",
      " [[0 7 9 5 6]\n",
      " [1 8 7 1 1]\n",
      " [6 5 9 8 1]\n",
      " [4 2 3 0 9]]\n",
      "The submatrices  : \n",
      " [array([[0, 7, 9, 5, 6],\n",
      "       [1, 8, 7, 1, 1]]), array([[6, 5, 9, 8, 1],\n",
      "       [4, 2, 3, 0, 9]])]\n"
     ]
    }
   ],
   "source": [
    "M1=np.random.randint(10, size=(4,5))\n",
    "M2=np.split(M1,2)\n",
    "print('The given matrix : \\n', M1)\n",
    "print('The submatrices  : \\n', M2)\n"
   ]
  },
  {
   "cell_type": "markdown",
   "id": "45b80a82",
   "metadata": {},
   "source": [
    "---\n",
    "\n",
    "### Exercise 24:\n",
    "Generate a random NumPy array and round each element to two decimal places.\n",
    "\n",
    "```python\n",
    "# Exercise 24"
   ]
  },
  {
   "cell_type": "code",
   "execution_count": 114,
   "id": "131cd903",
   "metadata": {},
   "outputs": [
    {
     "name": "stdout",
     "output_type": "stream",
     "text": [
      "Fisrt : \n",
      " [1 8 4 7 0 9 3 0 5 2 2 3 8 2 8]\n",
      "The concern : \n",
      "  [1 8 4 7 0 9 3 0 5 2 2 3 8 2 8]\n"
     ]
    }
   ],
   "source": [
    "P=np.random.randint(10, size=15)\n",
    "H=np.random.random([4,5])\n",
    "G=np.round(P, 2)\n",
    "print('Fisrt : \\n', P)\n",
    "print('The concern : \\n ', G)\n",
    "\n"
   ]
  },
  {
   "cell_type": "markdown",
   "id": "1b8ac082",
   "metadata": {},
   "source": [
    "---\n",
    "\n",
    "### Exercise 25:\n",
    "Find the unique elements of a NumPy array.\n",
    "\n",
    "```python\n",
    "# Exercise 25\n",
    "```"
   ]
  },
  {
   "cell_type": "code",
   "execution_count": 116,
   "id": "949229e9",
   "metadata": {},
   "outputs": [
    {
     "name": "stdout",
     "output_type": "stream",
     "text": [
      "Array : \n",
      "  [3 2 8 5 1 3 9 3 6 9 9 6 7 6 1]\n",
      "Unique element : \n",
      "  [2 8 5 3 9 3 6 9]\n"
     ]
    }
   ],
   "source": [
    "k=np.random.randint(10, size=15)\n",
    "b=k[np.unique(k)]\n",
    "print('Array : \\n ', k)\n",
    "print('Unique element : \\n ', b)"
   ]
  },
  {
   "cell_type": "markdown",
   "id": "17378a60",
   "metadata": {},
   "source": [
    "### Exercise 26:\n",
    "Replace all elements in a NumPy array that are less than a specific value with that value.\n",
    "\n",
    "```python\n",
    "# Exercise 26"
   ]
  },
  {
   "cell_type": "code",
   "execution_count": 120,
   "id": "b437bb4d",
   "metadata": {},
   "outputs": [
    {
     "name": "stdout",
     "output_type": "stream",
     "text": [
      " First matrix : \n",
      " [44 34 41 49 45  0  8 29 15 22 30 20 15 42 44]\n",
      " Final matrix : \n",
      " [44 34 41 49 45 10 10 29 15 22 30 20 15 42 44]\n"
     ]
    }
   ],
   "source": [
    "m=np.random.randint(50, size=15)\n",
    "print(' First matrix : \\n', m)\n",
    "m[m< 10]=10\n",
    "print(' Final matrix : \\n', m)\n"
   ]
  },
  {
   "cell_type": "markdown",
   "id": "65736d26",
   "metadata": {},
   "source": [
    "---\n",
    "\n",
    "### Exercise 27:\n",
    "Find the cumulative sum of the elements in a NumPy array.\n",
    "\n",
    "```python\n",
    "# Exercise 27"
   ]
  },
  {
   "cell_type": "code",
   "execution_count": 119,
   "id": "41b36f9e",
   "metadata": {},
   "outputs": [
    {
     "name": "stdout",
     "output_type": "stream",
     "text": [
      " First matrix : \n",
      " [7 5 5 7 5 7 9 9 6 0 1 4 4 9 7]\n",
      "Cumulative sum : \n",
      "  [ 7 12 17 24 29 36 45 54 60 60 61 65 69 78 85]\n"
     ]
    }
   ],
   "source": [
    "s=np.random.randint(10, size=15)\n",
    "print(' First matrix : \\n', s)\n",
    "b=np.cumsum(s)\n",
    "print('Cumulative sum : \\n ', b)\n",
    "\n"
   ]
  },
  {
   "cell_type": "markdown",
   "id": "22ec3e82",
   "metadata": {},
   "source": [
    "---\n",
    "\n",
    "### Exercise 28:\n",
    "Create a NumPy array and find the number of non-zero elements in it.\n",
    "\n",
    "```python\n",
    "# Exercise 28\n",
    "```"
   ]
  },
  {
   "cell_type": "code",
   "execution_count": 123,
   "id": "d9b3e222",
   "metadata": {},
   "outputs": [
    {
     "name": "stdout",
     "output_type": "stream",
     "text": [
      "[8 7 2 0 5]\n",
      "Number of non zeros elements which are in matr are :  4\n"
     ]
    }
   ],
   "source": [
    "matr=np.random.randint(12,size=5)\n",
    "print(matr)\n",
    "b=sum(matr!=0)\n",
    "print('Number of non zeros elements which are in matr are : ', b)\n",
    "\n"
   ]
  },
  {
   "cell_type": "markdown",
   "id": "2bd9b4dd",
   "metadata": {},
   "source": [
    "### Exercise 29:\n",
    "Create a NumPy array of random integers and sort it in ascending order.\n",
    "\n",
    "```python\n",
    "# Exercise 29"
   ]
  },
  {
   "cell_type": "code",
   "execution_count": 124,
   "id": "9daaa5fd",
   "metadata": {},
   "outputs": [
    {
     "name": "stdout",
     "output_type": "stream",
     "text": [
      " First matrix : \n",
      " [ 9 11 10 15 10  8  0  6  3  2  4 11 11 11  4]\n",
      "The sorted array  is: \n",
      " [ 0  2  3  4  4  6  8  9 10 10 11 11 11 11 15]\n"
     ]
    }
   ],
   "source": [
    "a=np.random.randint(20, size=15)\n",
    "print(' First matrix : \\n', a)\n",
    "b=np.sort(a)\n",
    "print('The sorted array  is: \\n', b)\n"
   ]
  },
  {
   "cell_type": "markdown",
   "id": "4711cd5f",
   "metadata": {},
   "source": [
    "---\n",
    "\n",
    "### Exercise 30:\n",
    "Find the row-wise and column-wise sum of a 3x3 matrix.\n",
    "\n",
    "```python\n",
    "# Exercise 30"
   ]
  },
  {
   "cell_type": "code",
   "execution_count": 126,
   "id": "3343d2bb",
   "metadata": {},
   "outputs": [
    {
     "name": "stdout",
     "output_type": "stream",
     "text": [
      "the array is : \n",
      " [[ 0 14 13]\n",
      " [18 29 36]\n",
      " [41 39  0]]\n",
      "The sum of each column is :  [59 82 49]\n",
      "The sum of each row is :  [27 83 80]\n"
     ]
    }
   ],
   "source": [
    "array=np.random.randint(60, size=(3,3))\n",
    "print('the array is : \\n', array)\n",
    "sum_column=np.sum(array, axis=0)  #sum of the colums\n",
    "print('The sum of each column is : ', sum_column)\n",
    "sum_row=np.sum(array, axis=1)  #sum of the rows\n",
    "print('The sum of each row is : ', sum_row)\n"
   ]
  },
  {
   "cell_type": "markdown",
   "id": "6350580b",
   "metadata": {},
   "source": [
    "---\n",
    "\n",
    "### Exercise 31:\n",
    "Generate a 2D NumPy array with random values and normalize it (scale the values between 0 and 1).\n",
    "\n",
    "```python\n",
    "# Exercise 31"
   ]
  },
  {
   "cell_type": "code",
   "execution_count": null,
   "id": "93c9527e",
   "metadata": {},
   "outputs": [],
   "source": [
    "array=np.random.randint(100, size=(3,3))\n",
    "print('Previous array \\n ', array)\n",
    "mean_column=np.mean(array, axis=0)\n",
    "sd_column=np.std(array, axis=0)\n",
    "norm = (array-mean_column)/(sd_column)\n",
    "print('Normalize matrix : \\n ', norm)\n"
   ]
  },
  {
   "cell_type": "markdown",
   "id": "2fa18121",
   "metadata": {},
   "source": [
    "---\n",
    "\n",
    "### Exercise 32:\n",
    "Create two NumPy arrays and find the dot product.\n",
    "\n",
    "```python\n",
    "# Exercise 32"
   ]
  },
  {
   "cell_type": "code",
   "execution_count": 128,
   "id": "5d524f60",
   "metadata": {},
   "outputs": [
    {
     "name": "stdout",
     "output_type": "stream",
     "text": [
      "Matrix 1 : \n",
      "  [[1 3 8 1 9]\n",
      " [1 4 5 8 9]\n",
      " [2 8 4 4 3]\n",
      " [2 9 3 1 8]\n",
      " [1 1 5 2 3]]\n",
      "Matrix 2 : \n",
      "  [[3 4 2 5 6]\n",
      " [3 0 9 0 4]\n",
      " [9 0 2 0 0]\n",
      " [1 4 5 7 3]\n",
      " [3 1 1 6 9]]\n",
      "M1 * M2 : \n",
      "  [[112  17  59  66 102]\n",
      " [ 95  45  97 115 127]\n",
      " [ 79  27 107  56  83]\n",
      " [ 85  20 104  65 123]\n",
      " [ 62  15  34  37  43]]\n"
     ]
    }
   ],
   "source": [
    "y1=np.random.randint(10, size=(5,5))\n",
    "y2=np.random.randint(10, size=(5,5))\n",
    "print('Matrix 1 : \\n ', y1)\n",
    "print('Matrix 2 : \\n ', y2)\n",
    "print('M1 * M2 : \\n ', np.dot(y1, y2))"
   ]
  },
  {
   "cell_type": "markdown",
   "id": "2ab439d4",
   "metadata": {},
   "source": [
    "---\n",
    "\n",
    "### Exercise 33:\n",
    "Find the trace of a square NumPy matrix.\n",
    "\n",
    "```python\n",
    "# Exercise 33"
   ]
  },
  {
   "cell_type": "code",
   "execution_count": 130,
   "id": "f6b64df0",
   "metadata": {},
   "outputs": [
    {
     "name": "stdout",
     "output_type": "stream",
     "text": [
      "The Matrix is : \n",
      " [[1 0 5]\n",
      " [1 4 9]\n",
      " [0 0 9]]\n",
      "The trace is :  14\n"
     ]
    }
   ],
   "source": [
    "tr=np.random.randint(10, size=(3,3))\n",
    "print('The Matrix is : \\n', tr)\n",
    "print('The trace is : ', np.trace(tr))"
   ]
  },
  {
   "cell_type": "markdown",
   "id": "9af61f22",
   "metadata": {},
   "source": [
    "---\n",
    "\n",
    "### Exercise 34:\n",
    "Create a 2D array and swap two rows.\n",
    "\n",
    "```python\n",
    "# Exercise 34"
   ]
  },
  {
   "cell_type": "code",
   "execution_count": 132,
   "id": "8a895365",
   "metadata": {},
   "outputs": [
    {
     "name": "stdout",
     "output_type": "stream",
     "text": [
      "Matrix : \n",
      " [[1 8 7 8 0]\n",
      " [5 2 9 8 0]\n",
      " [8 0 4 5 8]\n",
      " [4 0 2 0 8]]\n",
      "the swap one is : \n",
      " [[8 0 4 5 8]\n",
      " [5 2 9 8 0]\n",
      " [1 8 7 8 0]\n",
      " [4 0 2 0 8]]\n"
     ]
    }
   ],
   "source": [
    "row_swp=np.random.randint(10, size=(4,5))\n",
    "print('Matrix : \\n', row_swp)\n",
    "row_swp[[0,2]]=row_swp[[2,0]]\n",
    "print('the swap one is : \\n', row_swp)"
   ]
  },
  {
   "cell_type": "markdown",
   "id": "b0194099",
   "metadata": {},
   "source": [
    "---\n",
    "\n",
    "### Exercise 35:\n",
    "Create a 1D NumPy array and convert it into a column vector.\n",
    "\n",
    "```python\n",
    "# Exercise 35"
   ]
  },
  {
   "cell_type": "code",
   "execution_count": 136,
   "id": "ffd83934",
   "metadata": {},
   "outputs": [
    {
     "name": "stdout",
     "output_type": "stream",
     "text": [
      "Array : \n",
      " [9 1 1 0 5 0 3 1 1 9 7 6 0 5 2]\n"
     ]
    },
    {
     "data": {
      "text/plain": [
       "array([[9],\n",
       "       [1],\n",
       "       [1],\n",
       "       [0],\n",
       "       [5],\n",
       "       [0],\n",
       "       [3],\n",
       "       [1],\n",
       "       [1],\n",
       "       [9],\n",
       "       [7],\n",
       "       [6],\n",
       "       [0],\n",
       "       [5],\n",
       "       [2]])"
      ]
     },
     "execution_count": 136,
     "metadata": {},
     "output_type": "execute_result"
    }
   ],
   "source": [
    "vec=np.random.randint(10, size=15)\n",
    "print('Array : \\n', vec)\n",
    "b=vec[...,None]\n",
    "b\n"
   ]
  },
  {
   "cell_type": "markdown",
   "id": "53861e25",
   "metadata": {},
   "source": [
    "---\n",
    "\n",
    "### Exercise 36:\n",
    "Find the determinant of a 3x3 matrix.\n",
    "\n",
    "```python\n",
    "# Exercise 36"
   ]
  },
  {
   "cell_type": "code",
   "execution_count": 138,
   "id": "c771a696",
   "metadata": {},
   "outputs": [
    {
     "name": "stdout",
     "output_type": "stream",
     "text": [
      "Matrix : \n",
      " [[9 7 2]\n",
      " [5 5 7]\n",
      " [2 8 8]]\n",
      "Determinant is : \n",
      " -266.0000000000002\n"
     ]
    }
   ],
   "source": [
    "D=np.random.randint(10, size=(3,3))\n",
    "print('Matrix : \\n', D)\n",
    "det=float(np.linalg.det(D))\n",
    "print('Determinant is : \\n', det)\n"
   ]
  },
  {
   "cell_type": "markdown",
   "id": "880ea64e",
   "metadata": {},
   "source": [
    "---\n",
    "\n",
    "### Exercise 37:\n",
    "Find the eigenvalues and eigenvectors of a 2x2 matrix.\n",
    "\n",
    "```python\n",
    "# Exercise 37"
   ]
  },
  {
   "cell_type": "code",
   "execution_count": 139,
   "id": "8a9c8238",
   "metadata": {},
   "outputs": [
    {
     "name": "stdout",
     "output_type": "stream",
     "text": [
      "Eigen values : \n",
      " [ 7.27491722 -0.27491722]\n",
      "EIgen vector : \n",
      " [[ 0.66026926 -0.3545255 ]\n",
      " [ 0.75102896  0.93504634]]\n"
     ]
    }
   ],
   "source": [
    "eign=np.random.randint(10, size=(2,2))\n",
    "b=np.linalg.eig(eign)\n",
    "print('Eigen values : \\n', b[0])\n",
    "print('EIgen vector : \\n', b[1])"
   ]
  },
  {
   "cell_type": "markdown",
   "id": "3e8c4544",
   "metadata": {},
   "source": [
    "---\n",
    "\n",
    "### Exercise 38:\n",
    "Solve a system of linear equations using NumPy.\n",
    "\n",
    "```python\n",
    "# Exercise 38"
   ]
  },
  {
   "cell_type": "code",
   "execution_count": 140,
   "id": "890f0b91",
   "metadata": {},
   "outputs": [],
   "source": [
    "np.random.seed(10)\n",
    "A=np.random.randint(10, size=(3,3))\n",
    "B=np.random.randint(3)\n"
   ]
  },
  {
   "cell_type": "markdown",
   "id": "38c0255d",
   "metadata": {},
   "source": [
    "---\n",
    "\n",
    "### Exercise 39:\n",
    "Add Gaussian noise to a NumPy array.\n",
    "\n",
    "```python\n",
    "# Exercise 39"
   ]
  },
  {
   "cell_type": "code",
   "execution_count": 143,
   "id": "064874b8",
   "metadata": {},
   "outputs": [
    {
     "data": {
      "text/plain": [
       "array([ 7.95810947,  9.67586195,  8.6840582 , 10.84422612, 11.24804668,\n",
       "       11.00328019, 11.68286945,  6.71950003, 12.11601032,  9.81643111,\n",
       "        8.55193081,  9.19907929, 10.89064917, 11.9198793 ,  7.30729232,\n",
       "       14.03779875, 12.16475269,  6.42856435,  9.45532603,  9.41926322,\n",
       "       13.31229433,  7.53086259,  7.88463055, 10.27682797,  9.82819991,\n",
       "        9.72753898,  7.72576958, 11.27627161,  9.0167921 ,  7.50742998,\n",
       "        9.24013585,  9.45748373,  7.09073098, 10.9033509 , 12.24961345,\n",
       "       15.33974592, 12.6661992 ,  8.06471562,  9.49712134, 10.44132113,\n",
       "        6.92127716, 11.48683541,  8.86913464, 10.01570046,  7.74641818,\n",
       "       13.02763199,  8.78541103, 10.83664459, 11.9731135 ,  9.39728193,\n",
       "        9.96473304, 11.1982322 ,  9.39478943,  8.50906828,  9.74295405,\n",
       "       12.49598302, 12.12452028,  6.74273324, 10.22485543,  8.01699498,\n",
       "       11.35759068, 10.81941363,  9.02097191,  9.98035932,  7.35963629,\n",
       "       10.85148243, 10.93297175,  9.1942587 ,  9.9974558 ,  8.55004703,\n",
       "        8.4083021 ,  7.68382556, 11.14843615, 11.86524465, 10.18183004,\n",
       "        7.05200966, 10.22111612, 10.5073599 , 10.52976358, 11.44954436,\n",
       "        8.92929024,  9.61879015,  9.05864678,  9.27476984,  8.42286487,\n",
       "       12.513139  ,  7.58707678, 10.56505214,  9.00151003, 11.00137591,\n",
       "       12.74238683,  8.57443399,  9.30540652,  7.47187118, 11.37258923,\n",
       "        7.59658794, 11.25040162, 10.9871461 , 11.24589938,  9.18191457])"
      ]
     },
     "execution_count": 143,
     "metadata": {},
     "output_type": "execute_result"
    }
   ],
   "source": [
    "gauss_noise=np.random.normal(10,2,100)\n",
    "gauss_noise"
   ]
  },
  {
   "cell_type": "markdown",
   "id": "abbe8eec",
   "metadata": {},
   "source": [
    "---\n",
    "\n",
    "### Exercise 40:\n",
    "Create a 4x4 matrix and extract the diagonal elements.\n",
    "\n",
    "```python\n",
    "# Exercise 40"
   ]
  },
  {
   "cell_type": "code",
   "execution_count": 142,
   "id": "5dcdd5b2",
   "metadata": {},
   "outputs": [
    {
     "name": "stdout",
     "output_type": "stream",
     "text": [
      "The diagonals elements are: \n",
      " [9 4 8 7]\n"
     ]
    }
   ],
   "source": [
    "A=np.random.randint(10, size=(4,4))\n",
    "diag=np.diag(A)\n",
    "print(\"The diagonals elements are: \\n\", diag)"
   ]
  },
  {
   "cell_type": "markdown",
   "id": "9a78d71c",
   "metadata": {},
   "source": [
    "---\n",
    "\n",
    "### Exercise 41:\n",
    "Generate a NumPy array of 100 random values and clip the values to a range between 10 and 50.\n",
    "\n",
    "```python\n",
    "# Exercise 41\n",
    "```\n",
    "\n",
    "---\n",
    "\n",
    "### Exercise 42:\n",
    "Create a 2D NumPy array and replace all negative values with zero.\n",
    "\n",
    "```python\n",
    "# Exercise 42\n",
    "```\n",
    "\n",
    "---\n",
    "\n",
    "### Exercise 43:\n",
    "Find the inner and outer products of two NumPy arrays.\n",
    "\n",
    "```python\n",
    "# Exercise 43\n",
    "```\n",
    "\n",
    "---\n",
    "\n",
    "### Exercise 44:\n",
    "Calculate the pairwise distances between points in a NumPy array.\n",
    "\n",
    "```python\n",
    "# Exercise 44\n",
    "```\n",
    "\n",
    "---\n",
    "\n",
    "### Exercise 45:\n",
    "Create a structured NumPy array with fields for `name`, `age`, and `height`.\n",
    "\n",
    "```python\n",
    "# Exercise 45\n",
    "```\n",
    "\n",
    "---\n",
    "\n",
    "### Exercise 46:\n",
    "Create a 5x5 matrix of random integers and count the occurrences of each unique value.\n",
    "\n",
    "```python\n",
    "# Exercise 46\n",
    "```\n",
    "\n",
    "---\n",
    "\n",
    "### Exercise 47:\n",
    "Generate a random 3x3 NumPy array and subtract the mean of each row from the corresponding row.\n",
    "\n",
    "```python\n",
    "# Exercise 47\n",
    "```\n",
    "\n",
    "---\n",
    "\n",
    "### Exercise 48:\n",
    "Create a NumPy array of random integers and check if any of the values are greater than 50.\n",
    "\n",
    "```python\n",
    "# Exercise 48\n",
    "```\n",
    "\n",
    "---\n",
    "\n",
    "### Exercise 49:\n",
    "Calculate the moving average of a 1D NumPy array.\n",
    "\n",
    "```python\n",
    "# Exercise 49\n",
    "```\n",
    "\n",
    "---\n",
    "\n",
    "### Exercise 50:\n",
    "Find the Pearson correlation coefficient between two NumPy arrays.\n",
    "\n",
    "```python\n",
    "# Exercise 50\n",
    "```\n",
    "\n",
    "---\n",
    "\n",
    "### Exercise 51:\n",
    "Convert a NumPy array of radians to degrees.\n",
    "\n",
    "```python\n",
    "# Exercise 51\n",
    "```\n",
    "\n",
    "---\n",
    "\n",
    "### Exercise 52:\n",
    "Create a random NumPy array and compute its variance and standard deviation.\n",
    "\n",
    "```python\n",
    "# Exercise 52\n",
    "```\n",
    "\n",
    "---\n",
    "\n",
    "### Exercise 53:\n",
    "Create a 2D NumPy array and find the indices of the maximum values along each axis.\n",
    "\n",
    "```python\n",
    "# Exercise 53\n",
    "```\n",
    "\n",
    "---\n",
    "\n",
    "### Exercise 54:\n",
    "Compute the inverse of a 2x2 NumPy matrix.\n",
    "\n",
    "```python\n",
    "# Exercise 54\n",
    "```\n",
    "\n",
    "---\n",
    "\n",
    "### Exercise 55:\n",
    "Create a NumPy array of 10 random values and standardize it (mean 0, variance 1).\n",
    "\n",
    "```python\n",
    "# Exercise 55\n",
    "```\n",
    "\n",
    "---\n",
    "\n",
    "### Exercise 56:\n",
    "Perform element-wise addition and subtraction on two NumPy arrays.\n",
    "\n",
    "```python\n",
    "# Exercise 56\n",
    "```\n",
    "\n",
    "---\n",
    "\n",
    "### Exercise 57:\n",
    "Create a NumPy array of random values and find the maximum element's index.\n",
    "\n",
    "```python\n",
    "# Exercise 57\n",
    "```\n",
    "\n",
    "---\n",
    "\n",
    "### Exercise 58:\n",
    "Create a 3x3 NumPy array and rotate it by 90 degrees.\n",
    "\n",
    "```python\n",
    "# Exercise 58\n",
    "```\n",
    "\n",
    "---\n",
    "\n",
    "### Exercise 59:\n",
    "Compute the Frobenius norm of a matrix.\n",
    "\n",
    "```python\n",
    "# Exercise 59\n",
    "```\n",
    "\n",
    "---\n",
    "\n",
    "### Exercise 60:\n",
    "Create a 3D NumPy array and slice out a subarray.\n",
    "\n",
    "```python\n",
    "# Exercise 60\n",
    "```\n",
    "\n",
    "---"
   ]
  },
  {
   "cell_type": "code",
   "execution_count": null,
   "id": "c500e27a",
   "metadata": {},
   "outputs": [],
   "source": []
  }
 ],
 "metadata": {
  "kernelspec": {
   "display_name": "Python 3 (ipykernel)",
   "language": "python",
   "name": "python3"
  },
  "language_info": {
   "codemirror_mode": {
    "name": "ipython",
    "version": 3
   },
   "file_extension": ".py",
   "mimetype": "text/x-python",
   "name": "python",
   "nbconvert_exporter": "python",
   "pygments_lexer": "ipython3",
   "version": "3.12.3"
  }
 },
 "nbformat": 4,
 "nbformat_minor": 5
}
