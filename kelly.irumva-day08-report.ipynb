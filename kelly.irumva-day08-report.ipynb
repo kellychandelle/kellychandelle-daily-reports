{
 "cells": [
  {
   "cell_type": "markdown",
   "id": "cultural-webcam",
   "metadata": {},
   "source": [
    "# PyPro: challenge 1 \n",
    "\n",
    "### This challenge is due on Sunday 29th September 2024 at 8pm.\n",
    "\n",
    "`These exercises provide a wide range of challenges that test your understanding of Python's core concepts, such as control structures, data types, string manipulations, list comprehensions, and higher-order functions.`\n",
    "\n",
    "\n",
    "#### Basic Tasks\n",
    "\n",
    "1. Create a function `find_max()` that accepts two numeric inputs and returns the greater value. Avoid using the built-in `max()` function."
   ]
  },
  {
   "cell_type": "code",
   "execution_count": 13,
   "id": "simple-abuse",
   "metadata": {},
   "outputs": [
    {
     "name": "stdout",
     "output_type": "stream",
     "text": [
      "give the first value2\n",
      "give the second value5\n"
     ]
    },
    {
     "data": {
      "text/plain": [
       "5"
      ]
     },
     "execution_count": 13,
     "metadata": {},
     "output_type": "execute_result"
    }
   ],
   "source": [
    "def find_max():\n",
    "    a=int(input('give the first value'))\n",
    "    b=int(input('give the second value'))\n",
    "    if a<b:\n",
    "        return b\n",
    "    else:\n",
    "        return a\n",
    "\n",
    "find_max()"
   ]
  },
  {
   "cell_type": "code",
   "execution_count": 12,
   "id": "global-dream",
   "metadata": {},
   "outputs": [
    {
     "name": "stdout",
     "output_type": "stream",
     "text": [
      "give the first value a: 12\n",
      "give the second value b: 65\n"
     ]
    },
    {
     "data": {
      "text/plain": [
       "65"
      ]
     },
     "execution_count": 12,
     "metadata": {},
     "output_type": "execute_result"
    }
   ],
   "source": [
    "def find_max2(a, b):\n",
    "    if a<b:\n",
    "        return b\n",
    "    else:\n",
    "        return a\n",
    "a=int(input('give the first value a: '))\n",
    "b=int(input('give the second value b: '))\n",
    "find_max2(a,b)"
   ]
  },
  {
   "cell_type": "markdown",
   "id": "known-surrey",
   "metadata": {},
   "source": [
    "2. Develop a function `find_max_of_three()` to find the maximum among three given numbers."
   ]
  },
  {
   "cell_type": "code",
   "execution_count": 11,
   "id": "plain-philippines",
   "metadata": {},
   "outputs": [
    {
     "data": {
      "text/plain": [
       "12"
      ]
     },
     "execution_count": 11,
     "metadata": {},
     "output_type": "execute_result"
    }
   ],
   "source": [
    "def find_max_of_three(a=1,b=5,c=12):\n",
    "    if a<b and b>c:\n",
    "        return b\n",
    "    elif a>b and a>c:\n",
    "        return a\n",
    "    else:\n",
    "        return c\n",
    "find_max_of_three()    "
   ]
  },
  {
   "cell_type": "markdown",
   "id": "sought-theater",
   "metadata": {},
   "source": [
    "3. Write a function to manually calculate the length of a given list or string without using `len()`."
   ]
  },
  {
   "cell_type": "code",
   "execution_count": 10,
   "id": "working-python",
   "metadata": {},
   "outputs": [
    {
     "data": {
      "text/plain": [
       "9"
      ]
     },
     "execution_count": 10,
     "metadata": {},
     "output_type": "execute_result"
    }
   ],
   "source": [
    "str=\"chandelle\"\n",
    "count=0\n",
    "for l in str:\n",
    "    count=count+1\n",
    "count"
   ]
  },
  {
   "cell_type": "markdown",
   "id": "infectious-orleans",
   "metadata": {},
   "source": [
    "4. Implement a function that checks if a given character is a vowel (a, e, i, o, u)."
   ]
  },
  {
   "cell_type": "code",
   "execution_count": 9,
   "id": "pleased-emergency",
   "metadata": {},
   "outputs": [
    {
     "name": "stdout",
     "output_type": "stream",
     "text": [
      "give me a letter h\n"
     ]
    },
    {
     "data": {
      "text/plain": [
       "False"
      ]
     },
     "execution_count": 9,
     "metadata": {},
     "output_type": "execute_result"
    }
   ],
   "source": [
    "def check_vowel():\n",
    "    lettre= input(\"give me a letter \")\n",
    "    vow='aeiouEAIUO'\n",
    "    if lettre in vow:\n",
    "        return True\n",
    "    else:\n",
    "        return False   \n",
    "check_vowel()\n",
    "    "
   ]
  },
  {
   "cell_type": "markdown",
   "id": "closing-father",
   "metadata": {},
   "source": [
    "5. Write a function `encode()` that converts a string into \"rövarspråket\" ([robber's language](https://en.wikipedia.org/wiki/R%C3%B6varspr%C3%A5ket)) by doubling consonants and placing \"o\" in between, e.g., \"hello\" -> \"hohelollolo\"."
   ]
  },
  {
   "cell_type": "code",
   "execution_count": 8,
   "id": "cutting-syndrome",
   "metadata": {},
   "outputs": [
    {
     "data": {
      "text/plain": [
       "' hohelollolo'"
      ]
     },
     "execution_count": 8,
     "metadata": {},
     "output_type": "execute_result"
    }
   ],
   "source": [
    "def encode(string):\n",
    "    new_string=\" \"\n",
    "    for i in range(len(string)):\n",
    "        if string[i] in ['a',\"e\",'i','u','o'] :\n",
    "            new_string+=string[i]\n",
    "        else :\n",
    "            new_string+=string[i] + 'o' + string[i]\n",
    "    return new_string\n",
    "encode(\"hello\")"
   ]
  },
  {
   "cell_type": "markdown",
   "id": "legitimate-table",
   "metadata": {},
   "source": [
    "6. Create `sum_elements()` and `product_elements()` functions to sum and multiply all elements in a list, respectively."
   ]
  },
  {
   "cell_type": "code",
   "execution_count": 7,
   "id": "seasonal-brazilian",
   "metadata": {},
   "outputs": [
    {
     "data": {
      "text/plain": [
       "55"
      ]
     },
     "execution_count": 7,
     "metadata": {},
     "output_type": "execute_result"
    }
   ],
   "source": [
    "def sum_elements():\n",
    "    my_list=[5,8,19,23]\n",
    "    sum=0\n",
    "    for i in range(len(my_list)):\n",
    "        sum=sum+my_list[i]\n",
    "    return sum\n",
    "sum_elements()"
   ]
  },
  {
   "cell_type": "code",
   "execution_count": 6,
   "id": "changing-smart",
   "metadata": {},
   "outputs": [
    {
     "data": {
      "text/plain": [
       "17480"
      ]
     },
     "execution_count": 6,
     "metadata": {},
     "output_type": "execute_result"
    }
   ],
   "source": [
    "def product_elements():\n",
    "    my_list=[5,8,19,23]\n",
    "    prod=1\n",
    "    for i in range(len(my_list)):\n",
    "        prod=prod*my_list[i]\n",
    "    return prod\n",
    "product_elements()"
   ]
  },
  {
   "cell_type": "markdown",
   "id": "homeless-supervisor",
   "metadata": {},
   "source": [
    "7. Define a function `reverse_string()` to reverse the characters in a given string."
   ]
  },
  {
   "cell_type": "code",
   "execution_count": 5,
   "id": "simplified-baseball",
   "metadata": {},
   "outputs": [
    {
     "data": {
      "text/plain": [
       "'ellednahc'"
      ]
     },
     "execution_count": 5,
     "metadata": {},
     "output_type": "execute_result"
    }
   ],
   "source": [
    "def reverse_string():\n",
    "    my_name=\"chandelle\"\n",
    "    my_name[::-1]\n",
    "    return my_name[::-1]\n",
    "reverse_string()"
   ]
  },
  {
   "cell_type": "markdown",
   "id": "bigger-southeast",
   "metadata": {},
   "source": [
    "8. Implement `check_palindrome()` to verify if a string reads the same forwards and backwards, i.e. is a [palindrome](https://en.wikipedia.org/wiki/Palindrome)."
   ]
  },
  {
   "cell_type": "code",
   "execution_count": 4,
   "id": "ranking-colors",
   "metadata": {},
   "outputs": [
    {
     "name": "stdout",
     "output_type": "stream",
     "text": [
      "give a word radar\n"
     ]
    },
    {
     "data": {
      "text/plain": [
       "True"
      ]
     },
     "execution_count": 4,
     "metadata": {},
     "output_type": "execute_result"
    }
   ],
   "source": [
    "def check_palindrome():\n",
    "    str= input(\"give a word \")\n",
    "    if str==str[::-1]:\n",
    "        return True\n",
    "    else:\n",
    "        return False\n",
    "\n",
    "check_palindrome()"
   ]
  },
  {
   "cell_type": "markdown",
   "id": "spatial-machinery",
   "metadata": {},
   "source": [
    "    \n",
    "\n",
    "9. Develop a function `check_membership()` to determine if a value exists within a list."
   ]
  },
  {
   "cell_type": "code",
   "execution_count": 3,
   "id": "sudden-reunion",
   "metadata": {},
   "outputs": [
    {
     "data": {
      "text/plain": [
       "True"
      ]
     },
     "execution_count": 3,
     "metadata": {},
     "output_type": "execute_result"
    }
   ],
   "source": [
    "def check_membership(value,list1):\n",
    "    if value in list1:\n",
    "        return True\n",
    "    else:\n",
    "        return False\n",
    "    return value\n",
    "value= 2\n",
    "list1 =[1,2,5,7,8]\n",
    "check_membership(value,list1)"
   ]
  },
  {
   "cell_type": "markdown",
   "id": "stylish-hardwood",
   "metadata": {},
   "source": [
    "10. Write `check_overlap()` to identify if two lists share any elements."
   ]
  },
  {
   "cell_type": "code",
   "execution_count": 2,
   "id": "exact-schema",
   "metadata": {},
   "outputs": [
    {
     "data": {
      "text/plain": [
       "False"
      ]
     },
     "execution_count": 2,
     "metadata": {},
     "output_type": "execute_result"
    }
   ],
   "source": [
    "def check_overlap(list1,list2):\n",
    "    for i in range(len(list1)) :\n",
    "        if list1[i] in list2 :\n",
    "        #for i in range(len(list1)) and if list1[i] in range(len(list2)):\n",
    "            return True\n",
    "        else:\n",
    "            return False\n",
    "list1=[9,7,5,2]\n",
    "list2=[1,76,3,12]\n",
    "check_overlap(list1,list2)"
   ]
  }
 ],
 "metadata": {
  "kernelspec": {
   "display_name": "Python 3",
   "language": "python",
   "name": "python3"
  },
  "language_info": {
   "codemirror_mode": {
    "name": "ipython",
    "version": 3
   },
   "file_extension": ".py",
   "mimetype": "text/x-python",
   "name": "python",
   "nbconvert_exporter": "python",
   "pygments_lexer": "ipython3",
   "version": "3.9.2"
  }
 },
 "nbformat": 4,
 "nbformat_minor": 5
}
